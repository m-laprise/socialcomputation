{
 "cells": [
  {
   "cell_type": "code",
   "execution_count": 2,
   "metadata": {},
   "outputs": [],
   "source": [
    "using LinearAlgebra, Random, DifferentialEquations, Statistics, DiffEqBase, Glob\n",
    "using PyPlot, PyCall, BenchmarkTools, Printf\n",
    "# PyPlot.rc(\"text\", usetex=true)\n",
    "\n",
    "rcParams = PyPlot.PyDict(PyPlot.matplotlib.\"rcParams\")\n",
    "rcParams[\"text.latex.preamble\"] = [\"\\\\usepackage[utf8]{inputenc}\", \"\\\\usepackage{amsmath,amsthm}\"];\n",
    "rcParams[\"pdf.fonttype\"] = [42];\n",
    "rcParams[\"ps.fonttype\"] = [42];\n",
    "rcParams[\"savefig.transparent\"] = true;\n",
    "rcParams[\"text.usetex\"] = true;\n",
    "PyPlot.rc(\"font\", size = 12)          # set default fontsize\n",
    "PyPlot.rc(\"figure\", figsize = (6, 4)) # set default figsize\n",
    "PyPlot.svg(true);"
   ]
  },
  {
   "cell_type": "code",
   "execution_count": 3,
   "metadata": {},
   "outputs": [
    {
     "data": {
      "text/plain": [
       "PyObject <module 'matplotlib.pyplot' from '/Users/kamesh/.julia/conda/3/lib/python3.9/site-packages/matplotlib/pyplot.py'>"
      ]
     },
     "metadata": {},
     "output_type": "display_data"
    }
   ],
   "source": [
    "plt"
   ]
  },
  {
   "cell_type": "code",
   "execution_count": 4,
   "metadata": {},
   "outputs": [
    {
     "data": {
      "text/plain": [
       "sig_z (generic function with 1 method)"
      ]
     },
     "metadata": {},
     "output_type": "display_data"
    }
   ],
   "source": [
    "#Helper functions\n",
    "\n",
    "function phi_h(g,b,x)\n",
    "    return tanh(g*x + b) \n",
    " end\n",
    " \n",
    " function d_phi_h(g,b,x)\n",
    "    return  g /(cosh(g*x + b))^2\n",
    " end\n",
    " \n",
    " function d_sig_z(a,b,z)\n",
    "     return sig_z(a,b,z)*(1 - sig_z(a,b,z))*a\n",
    " end\n",
    "\n",
    "# Gate with infinite az\n",
    "function sig_z(a,b,z)\n",
    "    return 0.5*(1 + sign(z+b))\n",
    "end   "
   ]
  },
  {
   "cell_type": "code",
   "execution_count": 5,
   "metadata": {},
   "outputs": [
    {
     "data": {
      "text/plain": [
       "opinionRNN_eom! (generic function with 1 method)"
      ]
     },
     "metadata": {},
     "output_type": "display_data"
    }
   ],
   "source": [
    "struct opinionRNN_param_struct{T}\n",
    "    d::T; gu::T; tau_u ::T; \n",
    "    Jh::AbstractMatrix{T}\n",
    "    Ju::AbstractMatrix{T}\n",
    "    u_init::AbstractVector{T}\n",
    "    aux_Jh::AbstractVector{T}\n",
    "    aux_UJh::AbstractVector{T}\n",
    "    aux_JuH::AbstractVector{T}\n",
    "    h_input::AbstractVector{T}\n",
    "end\n",
    "\n",
    "\n",
    "# u = (h)\n",
    "# in-place equation of motion\n",
    "function opinionRNN_eom!(du, u, p::opinionRNN_param_struct, t)\n",
    "    gu = p.gu; d = p.d; tau_u = p.tau_u; Jh = p.Jh; Ju = p.Ju;  h_input = p.h_input;\n",
    "    aux_Jh = p.aux_Jh;  gu = p.gu; d = p.d; aux_UJh = p.aux_UJh; aux_JuH = p.aux_JuH;\n",
    "    u_init = p.u_init\n",
    "    n::Int = Int(size(u)[1]/2)\n",
    "    _h = @view u[1:n]; _dh = @view du[1:n]; _u = @view u[n+1:end]; _du = @view du[n+1:end]\n",
    "    mul!(aux_Jh,Jh,_h)\n",
    "    @. aux_UJh = sig_z(1,0,_u*aux_Jh)\n",
    "    mul!(aux_JuH,Ju,_h.^2)\n",
    "    @. _dh = -d*_h + aux_UJh + h_input\n",
    "    @. _du = (1/tau_u)*(-_u + u_init + gu*aux_JuH) \n",
    "    return nothing\n",
    "end\n",
    "\n"
   ]
  },
  {
   "cell_type": "code",
   "execution_count": 6,
   "metadata": {},
   "outputs": [],
   "source": [
    "rnd_seed = 12344\n",
    "Random.seed!(rnd_seed);\n",
    "n = 500;  # N = 2*n;\n",
    "#These are needed for all models\n",
    "d =0.5; gu = 1.0; tau_u = 1.0;\n",
    "t_total = 50.0\n",
    "dt = 1.0\n",
    "t0 = 0.0;\n",
    "t1 = t_total;\n",
    "t_offset1 = Int(round(t0/dt))\n",
    "t_offset2 = Int(round(t1/dt))\n",
    "rnd_idx = 1:n\n",
    "t_trace = t_offset1:1:t_offset2;"
   ]
  },
  {
   "cell_type": "code",
   "execution_count": 7,
   "metadata": {},
   "outputs": [],
   "source": [
    "\n",
    "# Specify the parameters:\n",
    "Jh = randn(n,n)/sqrt(n);  \n",
    "Ju = randn(n,n)/sqrt(n);\n",
    "\n",
    "# initial state vectors\n",
    "du0 = randn(2*n,);\n",
    "u0 = randn(2*n,);\n",
    "\n",
    "params = opinionRNN_param_struct(d,gu,tau_u,Jh,Ju,zeros(n,),zeros(n,),zeros(n,),zeros(n,),zeros(n,));\n",
    "#(gh,bh,az,bz,G1,G2,Jh,Jz,rand(n,),rand(n,),rand(n,),rand(n,),rand(n,),zeros(n,));\n",
    "\n",
    "# This is where you choose which model you want : vXX?\n",
    "opinionRNN_fun = ODEFunction(opinionRNN_eom!)\n",
    "opinionRNN_prob = ODEProblem(opinionRNN_fun,u0,(0.0,t_total),params);\n",
    "\n",
    "# Integrate away!\n",
    "rnd_idx = rand(1:n,10)\n",
    "opinionRNN_soln = solve(opinionRNN_prob,Tsit5(); abstol = 1e-8, reltol = 1e-3,\n",
    "                        saveat=dt);  # Vern9()  takes almost 2x the time\n",
    "h = opinionRNN_soln[1:n,:]';\n",
    "u = opinionRNN_soln[n+1:end,:]';\n"
   ]
  },
  {
   "cell_type": "code",
   "execution_count": 8,
   "metadata": {},
   "outputs": [
    {
     "data": {
      "text/plain": [
       "(1000, 51)"
      ]
     },
     "metadata": {},
     "output_type": "display_data"
    }
   ],
   "source": [
    "size(opinionRNN_soln)"
   ]
  },
  {
   "cell_type": "code",
   "execution_count": 11,
   "metadata": {},
   "outputs": [
    {
     "name": "stderr",
     "output_type": "stream",
     "text": [
      "sys:1: UserWarning: Matplotlib is currently using agg, which is a non-GUI backend, so cannot show the figure.\n"
     ]
    }
   ],
   "source": [
    "fig2, f2_axes = plt.subplots(ncols=1, nrows=1,figsize=(8,6))\n",
    "\n",
    "\n",
    "ax1 = f2_axes\n",
    "rnd_idx = rand(1:n,10)\n",
    "h_plot = h[:,rnd_idx]\n",
    "ax1.plot(t_trace,h_plot,linewidth=0.5)\n",
    "#ax1.set_ylabel(L\"$h$\",fontsize=16)\n",
    "y_min = -1.05\n",
    "y_max = 1.05\n",
    "ax1.set_ylim((y_min,y_max))\n",
    "ax1.set_yticks([-1,0,1])\n",
    "ax1.set_xlim((t0,t1))\n",
    "ax1.tick_params(labelsize=18)\n",
    "\n",
    "#fig2.tight_layout()\n",
    "show()"
   ]
  },
  {
   "cell_type": "code",
   "execution_count": 12,
   "metadata": {},
   "outputs": [
    {
     "data": {
      "text/plain": [
       "Figure(PyObject <Figure size 800x600 with 1 Axes>)"
      ]
     },
     "metadata": {},
     "output_type": "display_data"
    },
    {
     "data": {
      "text/plain": [
       "Figure(PyObject <Figure size 800x600 with 1 Axes>)"
      ]
     },
     "metadata": {},
     "output_type": "display_data"
    }
   ],
   "source": [
    "plt.plot(t_trace,h_plot,linewidth=0.5)\n",
    "PyPlot.display_figs()"
   ]
  },
  {
   "cell_type": "code",
   "execution_count": null,
   "metadata": {},
   "outputs": [],
   "source": []
  }
 ],
 "metadata": {
  "kernelspec": {
   "display_name": "Julia 1.9.0",
   "language": "julia",
   "name": "julia-1.9"
  },
  "language_info": {
   "file_extension": ".jl",
   "mimetype": "application/julia",
   "name": "julia",
   "version": "1.9.0"
  }
 },
 "nbformat": 4,
 "nbformat_minor": 2
}
